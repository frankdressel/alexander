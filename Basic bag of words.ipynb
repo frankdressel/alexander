{
 "cells": [
  {
   "cell_type": "code",
   "execution_count": 22,
   "metadata": {
    "collapsed": true
   },
   "outputs": [],
   "source": [
    "import nltk\n",
    "import string"
   ]
  },
  {
   "cell_type": "code",
   "execution_count": 23,
   "metadata": {
    "collapsed": true
   },
   "outputs": [],
   "source": [
    "stemmer=nltk.stem.snowball.GermanStemmer()\n",
    "stemmer=nltk.stem.SnowballStemmer('german')"
   ]
  },
  {
   "cell_type": "code",
   "execution_count": 24,
   "metadata": {},
   "outputs": [],
   "source": [
    "training_data = []\n",
    "training_data.append({\"class\":\"greeting\", \"sentence\":\"Wie geht 's?\"})\n",
    "training_data.append({\"class\":\"greeting\", \"sentence\":\"Wie fühlst Du Dich?\"})\n",
    "training_data.append({\"class\":\"greeting\", \"sentence\":\"Guten Tag.\"})\n",
    "training_data.append({\"class\":\"greeting\", \"sentence\":\"Wie geht 's Dir heute?\"})\n",
    "training_data.append({\"class\":\"greeting\", \"sentence\":\"Wie läufts?\"})\n",
    "training_data.append({\"class\":\"greeting\", \"sentence\":\"Hallo?\"})\n",
    "\n",
    "training_data.append({\"class\":\"goodbye\", \"sentence\":\"Tschüss.\"})\n",
    "training_data.append({\"class\":\"goodbye\", \"sentence\":\"Bis dann.\"})\n",
    "training_data.append({\"class\":\"goodbye\", \"sentence\":\"Bis bald.\"})\n",
    "training_data.append({\"class\":\"goodbye\", \"sentence\":\"Auf Wiedersehen\"})\n",
    "\n",
    "training_data.append({\"class\":\"weathertoday\", \"sentence\":\"wie wird das wetter heute\"})\n",
    "training_data.append({\"class\":\"weathertoday\", \"sentence\":\"wie wird das wetter heute in Dresden\"})\n",
    "training_data.append({\"class\":\"weathertoday\", \"sentence\":\"wie wird das wetter heute in Sachsen\"})\n",
    "training_data.append({\"class\":\"weathertoday\", \"sentence\":\"wie ist das wetter\"})\n",
    "training_data.append({\"class\":\"weathertoday\", \"sentence\":\"wie ist das wetter in Dresden\"})\n",
    "training_data.append({\"class\":\"weathertoday\", \"sentence\":\"wie ist das wetter in Sachsen\"})\n",
    "\n",
    "training_data.append({\"class\":\"weathertomorrow\", \"sentence\":\"wie wird das wetter morgen\"})\n",
    "training_data.append({\"class\":\"weathertomorrow\", \"sentence\":\"wie wird das wetter morgen in Dresden\"})\n",
    "training_data.append({\"class\":\"weathertomorrow\", \"sentence\":\"wie wird das wetter morgen in Sachsen\"})\n",
    "training_data.append({\"class\":\"weathertomorrow\", \"sentence\":\"wie wird das wetter\"})\n",
    "training_data.append({\"class\":\"weathertomorrow\", \"sentence\":\"wie wird das wetter in Dresden\"})\n",
    "training_data.append({\"class\":\"weathertomorrow\", \"sentence\":\"wie wird das wetter in Sachsen\"})"
   ]
  },
  {
   "cell_type": "code",
   "execution_count": 25,
   "metadata": {},
   "outputs": [],
   "source": [
    "# capture unique stemmed words in the training corpus\n",
    "corpus_words = {}\n",
    "class_words = {}\n",
    "# turn a list into a set (of unique items) and then a list again (this removes duplicates)\n",
    "classes = list(set([a['class'] for a in training_data]))\n",
    "for c in classes:\n",
    "    # prepare a list of words within each class\n",
    "    class_words[c] = set()\n",
    "\n",
    "# loop through each sentence in our training data\n",
    "for data in training_data:\n",
    "    # tokenize each sentence into words\n",
    "    for word in nltk.tokenize.WordPunctTokenizer().tokenize(text=data['sentence']):\n",
    "        # ignore a some things\n",
    "        if word not in [\"?\", \"'s\"]:\n",
    "            # stem and lowercase each word\n",
    "            stemmed_word = stemmer.stem(word.lower())\n",
    "            # have we not seen this word already?\n",
    "            if stemmed_word not in corpus_words:\n",
    "                corpus_words[stemmed_word] = 1\n",
    "            else:\n",
    "                corpus_words[stemmed_word] += 1\n",
    "\n",
    "            # add the word to our words in class list\n",
    "            class_words[data['class']].add(stemmed_word)"
   ]
  },
  {
   "cell_type": "code",
   "execution_count": 26,
   "metadata": {
    "collapsed": true
   },
   "outputs": [],
   "source": [
    "# calculate a score for a given class taking into account word commonality\n",
    "def calculate_class_score(sentence, class_name, show_details=True):\n",
    "    score = 0\n",
    "    # tokenize each word in our new sentence\n",
    "    tokens=nltk.tokenize.WordPunctTokenizer().tokenize(sentence)\n",
    "    tokens = [i for i in tokens if i not in string.punctuation]\n",
    "    for word in tokens:\n",
    "        # check to see if the stem of the word is in any of our classes\n",
    "        if stemmer.stem(word.lower()) in class_words[class_name]:\n",
    "            # treat each word with relative weight\n",
    "            score += (1 / corpus_words[stemmer.stem(word.lower())])\n",
    "\n",
    "            if show_details:\n",
    "                print (\"   match: %s (%s)\" % (stemmer.stem(word.lower()), 1 / corpus_words[stemmer.stem(word.lower())]))\n",
    "    return score"
   ]
  },
  {
   "cell_type": "code",
   "execution_count": 27,
   "metadata": {
    "collapsed": true
   },
   "outputs": [],
   "source": [
    "# return the class with highest score for sentence\n",
    "def classify(sentence):\n",
    "    high_class = None\n",
    "    high_score = 0\n",
    "    # loop through our classes\n",
    "    for c in class_words.keys():\n",
    "        # calculate score of sentence for each class\n",
    "        score = calculate_class_score(sentence, c, show_details=False)\n",
    "        # keep track of highest score\n",
    "        if score > high_score:\n",
    "            high_class = c\n",
    "            high_score = score\n",
    "\n",
    "    return high_class, high_score"
   ]
  }
 ],
 "metadata": {
  "kernelspec": {
   "display_name": "Python 3",
   "language": "python",
   "name": "python3"
  },
  "language_info": {
   "codemirror_mode": {
    "name": "ipython",
    "version": 3
   },
   "file_extension": ".py",
   "mimetype": "text/x-python",
   "name": "python",
   "nbconvert_exporter": "python",
   "pygments_lexer": "ipython3",
   "version": "3.5.3"
  }
 },
 "nbformat": 4,
 "nbformat_minor": 2
}
