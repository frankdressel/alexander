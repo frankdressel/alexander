{
 "cells": [
  {
   "cell_type": "code",
   "execution_count": 1,
   "metadata": {},
   "outputs": [],
   "source": [
    "import requests\n",
    "import bs4\n",
    "import re"
   ]
  },
  {
   "cell_type": "code",
   "execution_count": 2,
   "metadata": {
    "scrolled": true
   },
   "outputs": [],
   "source": [
    "%run 'Basic bag of words.ipynb'"
   ]
  },
  {
   "cell_type": "code",
   "execution_count": 3,
   "metadata": {},
   "outputs": [
    {
     "name": "stdout",
     "output_type": "stream",
     "text": [
      "('weathertoday', 0.5902777777777777)\n",
      "('greeting', 1.0625)\n",
      "(None, 0)\n",
      "('greeting', 2.0625)\n",
      "('greeting', 1.0)\n",
      "('weathertoday', 0.9375)\n",
      "('weathertoday', 0.7152777777777777)\n"
     ]
    }
   ],
   "source": [
    "print(classify('Wie wird das Wetter heute?'))\n",
    "print(classify(\"Wie geht 's?\"))\n",
    "print(classify(\"Hallihallo.\"))\n",
    "print(classify(\"Er fragte: 'Hallo, wie geht 's?\"))\n",
    "print(classify(\"Hallo\"))\n",
    "print(classify(\"Wie ist das Wetter in Dresden?\"))\n",
    "print(classify(\"Wie wird das Wetter in Dresden?\"))"
   ]
  },
  {
   "cell_type": "code",
   "execution_count": 4,
   "metadata": {
    "collapsed": true
   },
   "outputs": [],
   "source": [
    "class Response():\n",
    "    responsetype=None\n",
    "    response=None\n",
    "    \n",
    "    def __init__(self, responsetype=None, response=None):\n",
    "        self.responsetype=responsetype\n",
    "        self.response=response"
   ]
  },
  {
   "cell_type": "code",
   "execution_count": null,
   "metadata": {},
   "outputs": [],
   "source": [
    "def weathertoday(location='sachsen'):\n",
    "    url = \"http://www.dwd.de/DE/wetter/vorhersage_aktuell/sachsen/vhs_sac_node.html\"\n",
    "    # DWD blocks default user agent, which is sent with requests. Fake Mozilla here.\n",
    "    headers = {\n",
    "        'User-Agent': 'Mozilla/5.0',\n",
    "    }\n",
    "    html=requests.get(url, headers=headers).text\n",
    "    soup = bs4.BeautifulSoup(html, 'html.parser')\n",
    "    today=soup.find('h2', text=re.compile(r'Vorhersage.*heute')).findNext('pre').text\n",
    "\n",
    "    return today\n",
    "\n",
    "def weathertomorrow(location='sachsen'):\n",
    "    url = \"http://www.dwd.de/DE/wetter/vorhersage_aktuell/sachsen/vhs_sac_node.html\"\n",
    "    # DWD blocks default user agent, which is sent with requests. Fake Mozilla here.\n",
    "    headers = {\n",
    "        'User-Agent': 'Mozilla/5.0',\n",
    "    }\n",
    "    html=requests.get(url, headers=headers).text\n",
    "    soup = bs4.BeautifulSoup(html, 'html.parser')\n",
    "    today=soup.find('h2', text=re.compile(r'Vorhersage.*morgen')).findNext('pre').text\n",
    "\n",
    "    return today"
   ]
  },
  {
   "cell_type": "code",
   "execution_count": null,
   "metadata": {},
   "outputs": [
    {
     "name": "stdout",
     "output_type": "stream",
     "text": [
      "Started\n"
     ]
    },
    {
     "name": "stderr",
     "output_type": "stream",
     "text": [
      "Error in connection handler\n",
      "Traceback (most recent call last):\n",
      "  File \"/usr/local/lib/python3.5/dist-packages/websockets/server.py\", line 84, in handler\n",
      "    yield from self.ws_handler(self, path)\n",
      "  File \"<ipython-input-6-3a6f57ccd68c>\", line 7, in hello\n",
      "    message = await websocket.recv()\n",
      "  File \"/usr/local/lib/python3.5/dist-packages/websockets/protocol.py\", line 299, in recv\n",
      "    raise ConnectionClosed(self.close_code, self.close_reason)\n",
      "websockets.exceptions.ConnectionClosed: WebSocket connection is closed: code = 1001, no reason.\n",
      "Error in connection handler\n",
      "Traceback (most recent call last):\n",
      "  File \"/usr/local/lib/python3.5/dist-packages/websockets/server.py\", line 84, in handler\n",
      "    yield from self.ws_handler(self, path)\n",
      "  File \"<ipython-input-6-3a6f57ccd68c>\", line 7, in hello\n",
      "    message = await websocket.recv()\n",
      "  File \"/usr/local/lib/python3.5/dist-packages/websockets/protocol.py\", line 299, in recv\n",
      "    raise ConnectionClosed(self.close_code, self.close_reason)\n",
      "websockets.exceptions.ConnectionClosed: WebSocket connection is closed: code = 1001, no reason.\n",
      "Error in connection handler\n",
      "Traceback (most recent call last):\n",
      "  File \"/usr/local/lib/python3.5/dist-packages/websockets/server.py\", line 84, in handler\n",
      "    yield from self.ws_handler(self, path)\n",
      "  File \"<ipython-input-6-3a6f57ccd68c>\", line 7, in hello\n",
      "    message = await websocket.recv()\n",
      "  File \"/usr/local/lib/python3.5/dist-packages/websockets/protocol.py\", line 299, in recv\n",
      "    raise ConnectionClosed(self.close_code, self.close_reason)\n",
      "websockets.exceptions.ConnectionClosed: WebSocket connection is closed: code = 1001, no reason.\n",
      "Error in connection handler\n",
      "Traceback (most recent call last):\n",
      "  File \"/usr/local/lib/python3.5/dist-packages/websockets/server.py\", line 84, in handler\n",
      "    yield from self.ws_handler(self, path)\n",
      "  File \"<ipython-input-6-3a6f57ccd68c>\", line 7, in hello\n",
      "    message = await websocket.recv()\n",
      "  File \"/usr/local/lib/python3.5/dist-packages/websockets/protocol.py\", line 299, in recv\n",
      "    raise ConnectionClosed(self.close_code, self.close_reason)\n",
      "websockets.exceptions.ConnectionClosed: WebSocket connection is closed: code = 1001, no reason.\n",
      "Error in connection handler\n",
      "Traceback (most recent call last):\n",
      "  File \"/usr/local/lib/python3.5/dist-packages/websockets/server.py\", line 84, in handler\n",
      "    yield from self.ws_handler(self, path)\n",
      "  File \"<ipython-input-6-3a6f57ccd68c>\", line 7, in hello\n",
      "    message = await websocket.recv()\n",
      "  File \"/usr/local/lib/python3.5/dist-packages/websockets/protocol.py\", line 299, in recv\n",
      "    raise ConnectionClosed(self.close_code, self.close_reason)\n",
      "websockets.exceptions.ConnectionClosed: WebSocket connection is closed: code = 1001, no reason.\n"
     ]
    }
   ],
   "source": [
    "import asyncio\n",
    "import websockets\n",
    "import jsonpickle\n",
    "\n",
    "async def hello(websocket, path):\n",
    "    while True:\n",
    "        message = await websocket.recv()\n",
    "        if classify(message)[0]=='greeting':\n",
    "            await websocket.send(jsonpickle.encode(Response('SPEECH', 'Hallo')))\n",
    "        if classify(message)[0]=='weathertoday':\n",
    "            await websocket.send(jsonpickle.encode(Response('SPEECH', weathertoday())))\n",
    "        if classify(message)[0]=='weathertomorrow':\n",
    "            await websocket.send(jsonpickle.encode(Response('SPEECH', weathertomorrow())))\n",
    "\n",
    "start_server = websockets.serve(hello, port=5000)\n",
    "print('Started')\n",
    "\n",
    "asyncio.get_event_loop().run_until_complete(start_server)\n",
    "asyncio.get_event_loop().run_forever()"
   ]
  }
 ],
 "metadata": {
  "kernelspec": {
   "display_name": "Python 3",
   "language": "python",
   "name": "python3"
  },
  "language_info": {
   "codemirror_mode": {
    "name": "ipython",
    "version": 3
   },
   "file_extension": ".py",
   "mimetype": "text/x-python",
   "name": "python",
   "nbconvert_exporter": "python",
   "pygments_lexer": "ipython3",
   "version": "3.5.3"
  }
 },
 "nbformat": 4,
 "nbformat_minor": 2
}
